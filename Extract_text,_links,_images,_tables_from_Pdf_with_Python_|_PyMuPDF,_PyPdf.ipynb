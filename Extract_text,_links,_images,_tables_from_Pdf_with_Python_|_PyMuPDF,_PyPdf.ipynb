{
  "nbformat": 4,
  "nbformat_minor": 0,
  "metadata": {
    "colab": {
      "provenance": [],
      "authorship_tag": "ABX9TyM+yW0G7FICEWA14bu4H8RR",
      "include_colab_link": true
    },
    "kernelspec": {
      "name": "python3",
      "display_name": "Python 3"
    },
    "language_info": {
      "name": "python"
    }
  },
  "cells": [
    {
      "cell_type": "markdown",
      "metadata": {
        "id": "view-in-github",
        "colab_type": "text"
      },
      "source": [
        "<a href=\"https://colab.research.google.com/github/safaasayed1234/Data_scraping_and_text_analysis/blob/main/Extract_text%2C_links%2C_images%2C_tables_from_Pdf_with_Python_%7C_PyMuPDF%2C_PyPdf.ipynb\" target=\"_parent\"><img src=\"https://colab.research.google.com/assets/colab-badge.svg\" alt=\"Open In Colab\"/></a>"
      ]
    },
    {
      "cell_type": "code",
      "execution_count": 141,
      "metadata": {
        "colab": {
          "base_uri": "https://localhost:8080/"
        },
        "id": "ANu-VWpbvHAB",
        "outputId": "38164a4b-b5ee-4697-ad63-847bb473a9fe"
      },
      "outputs": [
        {
          "output_type": "stream",
          "name": "stdout",
          "text": [
            "Requirement already satisfied: pypdf in /usr/local/lib/python3.10/dist-packages (4.3.1)\n",
            "Requirement already satisfied: typing_extensions>=4.0 in /usr/local/lib/python3.10/dist-packages (from pypdf) (4.12.2)\n"
          ]
        }
      ],
      "source": [
        "! pip install pypdf\n",
        "from pypdf import PdfReader"
      ]
    },
    {
      "cell_type": "code",
      "source": [
        "reader = PdfReader('/content/AWS_Academy_Graduate___AWS_Academy_Cloud_Foundations_Badge20230507-28-1lqgp2p.pdf')\n",
        "print(len(reader.pages))\n",
        "page = reader.pages[0]\n",
        "#print(page.extract_text())\n",
        "for i in range(len(reader.pages)):\n",
        "  page = reader.pages[i]\n",
        "  print(page.extract_text())\n",
        "\n",
        "for i in page.images:\n",
        "  with open(i.name, 'wb') as f:\n",
        "    f.write(i.data)"
      ],
      "metadata": {
        "colab": {
          "base_uri": "https://localhost:8080/"
        },
        "collapsed": true,
        "id": "bNIZnjK9z7IW",
        "outputId": "cedf0134-a96c-4b30-f994-205674e1e16c"
      },
      "execution_count": 167,
      "outputs": [
        {
          "output_type": "stream",
          "name": "stdout",
          "text": [
            "1\n",
            "safaa sayed\n",
            "AWS Academy Graduate - AWS Academy Cloud Foundations\n",
            "05/03/2023\n",
            "https://www.credly.com/go/fTzZfjT920 hours\n",
            "Powered by TCPDF (www.tcpdf.org)\n"
          ]
        }
      ]
    },
    {
      "cell_type": "code",
      "source": [
        "!pip install pdfplumber\n",
        "import pdfplumber"
      ],
      "metadata": {
        "colab": {
          "base_uri": "https://localhost:8080/"
        },
        "id": "4UGRqxcpzNmQ",
        "outputId": "8ba66623-d80d-45de-a8ce-90308d52f8a7"
      },
      "execution_count": 143,
      "outputs": [
        {
          "output_type": "stream",
          "name": "stdout",
          "text": [
            "Requirement already satisfied: pdfplumber in /usr/local/lib/python3.10/dist-packages (0.11.4)\n",
            "Requirement already satisfied: pdfminer.six==20231228 in /usr/local/lib/python3.10/dist-packages (from pdfplumber) (20231228)\n",
            "Requirement already satisfied: Pillow>=9.1 in /usr/local/lib/python3.10/dist-packages (from pdfplumber) (9.4.0)\n",
            "Requirement already satisfied: pypdfium2>=4.18.0 in /usr/local/lib/python3.10/dist-packages (from pdfplumber) (4.30.0)\n",
            "Requirement already satisfied: charset-normalizer>=2.0.0 in /usr/local/lib/python3.10/dist-packages (from pdfminer.six==20231228->pdfplumber) (3.3.2)\n",
            "Requirement already satisfied: cryptography>=36.0.0 in /usr/local/lib/python3.10/dist-packages (from pdfminer.six==20231228->pdfplumber) (43.0.0)\n",
            "Requirement already satisfied: cffi>=1.12 in /usr/local/lib/python3.10/dist-packages (from cryptography>=36.0.0->pdfminer.six==20231228->pdfplumber) (1.17.0)\n",
            "Requirement already satisfied: pycparser in /usr/local/lib/python3.10/dist-packages (from cffi>=1.12->cryptography>=36.0.0->pdfminer.six==20231228->pdfplumber) (2.22)\n"
          ]
        }
      ]
    },
    {
      "cell_type": "code",
      "source": [
        "with pdfplumber.open('/content/AWS_Academy_Graduate___AWS_Academy_Cloud_Foundations_Badge20230507-28-1lqgp2p.pdf') as f:\n",
        "  for i in f.pages:\n",
        "    print(i.extract_table())"
      ],
      "metadata": {
        "colab": {
          "base_uri": "https://localhost:8080/"
        },
        "id": "lioN8PaPz8DB",
        "outputId": "752f2dc7-9018-490d-eb01-75f14f6cbc77"
      },
      "execution_count": 168,
      "outputs": [
        {
          "output_type": "stream",
          "name": "stdout",
          "text": [
            "None\n"
          ]
        }
      ]
    },
    {
      "cell_type": "code",
      "source": [
        "!pip install pymupdf\n",
        "import fitz"
      ],
      "metadata": {
        "colab": {
          "base_uri": "https://localhost:8080/"
        },
        "id": "Ze0s7pOazNqZ",
        "outputId": "53cff0b8-90b0-4991-f984-ba8f78b24194"
      },
      "execution_count": 145,
      "outputs": [
        {
          "output_type": "stream",
          "name": "stdout",
          "text": [
            "Requirement already satisfied: pymupdf in /usr/local/lib/python3.10/dist-packages (1.24.9)\n",
            "Requirement already satisfied: PyMuPDFb==1.24.9 in /usr/local/lib/python3.10/dist-packages (from pymupdf) (1.24.9)\n"
          ]
        }
      ]
    },
    {
      "cell_type": "code",
      "source": [
        "doc = fitz.open('/content/AWS_Academy_Graduate___AWS_Academy_Cloud_Foundations_Badge20230507-28-1lqgp2p.pdf')\n",
        "print(doc.page_count)\n"
      ],
      "metadata": {
        "colab": {
          "base_uri": "https://localhost:8080/"
        },
        "id": "JpHPBBfLz8vg",
        "outputId": "0fbb2bf1-4fef-4cd3-edfa-4c5e79713cfb"
      },
      "execution_count": 169,
      "outputs": [
        {
          "output_type": "stream",
          "name": "stdout",
          "text": [
            "1\n"
          ]
        }
      ]
    },
    {
      "cell_type": "code",
      "source": [
        "print(doc.metadata)"
      ],
      "metadata": {
        "colab": {
          "base_uri": "https://localhost:8080/"
        },
        "id": "WHlqB5uUzfG5",
        "outputId": "5705823f-09d5-4162-9772-d2d3cde2383f"
      },
      "execution_count": 170,
      "outputs": [
        {
          "output_type": "stream",
          "name": "stdout",
          "text": [
            "{'format': 'PDF 1.7', 'title': '', 'author': 'PDF Generator API', 'subject': '', 'keywords': 'Automated document generation with PDF Generator API. PDFLib:', 'creator': 'PDF Generator API (https://pdfgeneratorapi.com)', 'producer': 'TCPDF 6.4.4 (http://www.tcpdf.org)', 'creationDate': \"D:20230507123229+00'00'\", 'modDate': \"D:20230507123229+00'00'\", 'trapped': '', 'encryption': None}\n"
          ]
        }
      ]
    },
    {
      "cell_type": "code",
      "source": [
        "page = doc.load_page(0)\n",
        "print(page.get_text())"
      ],
      "metadata": {
        "colab": {
          "base_uri": "https://localhost:8080/"
        },
        "id": "LnJuTkiszfKg",
        "outputId": "fd75cb94-ecb0-46a8-ad37-0c65ad59b34e"
      },
      "execution_count": 171,
      "outputs": [
        {
          "output_type": "stream",
          "name": "stdout",
          "text": [
            "safaa sayed\n",
            "AWS Academy Graduate - AWS Academy Cloud Foundations\n",
            "05/03/2023\n",
            "https://www.credly.com/go/fTzZfjT9\n",
            "20 hours\n",
            "Powered by TCPDF (www.tcpdf.org)\n",
            "\n"
          ]
        }
      ]
    },
    {
      "cell_type": "code",
      "source": [
        "pix = page.get_pixmap()\n",
        "pix.save(f\"page_{page.number}.png\")"
      ],
      "metadata": {
        "id": "uvK3UeJG8abV"
      },
      "execution_count": 173,
      "outputs": []
    },
    {
      "cell_type": "code",
      "source": [
        "links = page.get_links()\n",
        "print(links)"
      ],
      "metadata": {
        "colab": {
          "base_uri": "https://localhost:8080/"
        },
        "id": "9URRbokA8afY",
        "outputId": "bbf36ad2-d4da-4222-8e2a-f2378a1b6892"
      },
      "execution_count": 174,
      "outputs": [
        {
          "output_type": "stream",
          "name": "stdout",
          "text": [
            "[{'kind': 2, 'xref': 5, 'from': Rect(0.0, 609.8140258789062, 16.170000076293945, 611.0), 'uri': 'http://www.tcpdf.org', 'id': '0001-0000'}]\n"
          ]
        }
      ]
    },
    {
      "cell_type": "code",
      "source": [],
      "metadata": {
        "id": "daKZremBzNuA"
      },
      "execution_count": 150,
      "outputs": []
    }
  ]
}